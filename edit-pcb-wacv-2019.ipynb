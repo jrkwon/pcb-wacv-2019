{
 "cells": [
  {
   "cell_type": "code",
   "execution_count": 27,
   "metadata": {},
   "outputs": [],
   "source": [
    "import xml.etree.ElementTree as ET\n",
    "\n",
    "# read the xml file\n",
    "tree = ET.parse('data/pcb_wacv_2019-kwon/EDA-008_Bottom/EDA-008_Bottom.xml')\n",
    "\n",
    "# get the root node\n",
    "root = tree.getroot()\n",
    "\n"
   ]
  },
  {
   "cell_type": "code",
   "execution_count": 42,
   "metadata": {},
   "outputs": [],
   "source": [
    "component_names = [\n",
    "    \"resistor\", \"capacitor\", \"pins\", \"connector\", \"pads\", \"ic\", \n",
    "    \"transistor\"\n",
    "]\n",
    "\n",
    "remove_names = [ \n",
    "    \"text\", \"\\\"component text\", \"\\\"test point\", \"unknown\", \n",
    "    \"\\\"resistor network\" ]\n",
    "\n",
    "replace_names = { \n",
    "    \"\\\"diode zener array\\\"\": \"diode_zener_array\",\n",
    "    \"\\\"resistor network\\\"\" : \"resistor_network\",\n",
    "\n",
    "}\n",
    "\n",
    "nodes = root.findall('.//object')\n",
    "for node in nodes:\n",
    "    if not node.find('name').text:\n",
    "        continue\n",
    "\n",
    "    for component_name in component_names:\n",
    "        obj_name = node.find('name').text\n",
    "        if obj_name.startswith(component_name): \n",
    "            node.find('name').text = node.find('name').text.split()[0]\n",
    "\n",
    "    for text_name in remove_names:\n",
    "        obj_name = node.find('name').text\n",
    "        if obj_name.startswith(text_name):\n",
    "            root.remove(node)\n",
    "\n",
    "    for key in replace_names:\n",
    "        obj_name = node.find('name').text.split(\"\\\"\")[0]\n",
    "        #print(obj_name)\n",
    "        if obj_name.startswith(key):\n",
    "            node.find('name').text = replace_names[key]\n"
   ]
  },
  {
   "cell_type": "code",
   "execution_count": 43,
   "metadata": {},
   "outputs": [],
   "source": [
    "# save the xml file\n",
    "tree.write('data/pcb_wacv_2019-kwon/EDA-008_Bottom/EDA-008_Bottom-new.xml')\n"
   ]
  },
  {
   "cell_type": "code",
   "execution_count": 44,
   "metadata": {},
   "outputs": [
    {
     "data": {
      "text/plain": [
       "dict_keys(['\"diode zener array\"', '\"resistor network\"'])"
      ]
     },
     "execution_count": 44,
     "metadata": {},
     "output_type": "execute_result"
    }
   ],
   "source": [
    "replace_names.keys()"
   ]
  },
  {
   "cell_type": "code",
   "execution_count": 45,
   "metadata": {},
   "outputs": [
    {
     "data": {
      "text/plain": [
       "['', '123', '']"
      ]
     },
     "execution_count": 45,
     "metadata": {},
     "output_type": "execute_result"
    }
   ],
   "source": [
    "text = '\"123\"'\n",
    "text.split('\"')"
   ]
  },
  {
   "cell_type": "code",
   "execution_count": 46,
   "metadata": {},
   "outputs": [
    {
     "data": {
      "text/plain": [
       "['', '123', '']"
      ]
     },
     "execution_count": 46,
     "metadata": {},
     "output_type": "execute_result"
    }
   ],
   "source": [
    "text = \"\\\"123\\\"\"\n",
    "text.split(\"\\\"\")"
   ]
  },
  {
   "cell_type": "code",
   "execution_count": 49,
   "metadata": {},
   "outputs": [
    {
     "data": {
      "text/plain": [
       "False"
      ]
     },
     "execution_count": 49,
     "metadata": {},
     "output_type": "execute_result"
    }
   ],
   "source": [
    "text.startswith('\"2')"
   ]
  },
  {
   "cell_type": "code",
   "execution_count": null,
   "metadata": {},
   "outputs": [],
   "source": []
  }
 ],
 "metadata": {
  "kernelspec": {
   "display_name": "Python 3.8.15 ('yolov5')",
   "language": "python",
   "name": "python3"
  },
  "language_info": {
   "codemirror_mode": {
    "name": "ipython",
    "version": 3
   },
   "file_extension": ".py",
   "mimetype": "text/x-python",
   "name": "python",
   "nbconvert_exporter": "python",
   "pygments_lexer": "ipython3",
   "version": "3.8.15"
  },
  "orig_nbformat": 4,
  "vscode": {
   "interpreter": {
    "hash": "b335341cc11a3d562587e53f888766c53395175f8aee3790a1bf62fd7ff16661"
   }
  }
 },
 "nbformat": 4,
 "nbformat_minor": 2
}
